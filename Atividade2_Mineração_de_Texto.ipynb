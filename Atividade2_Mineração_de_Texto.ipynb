{
  "cells": [
    {
      "cell_type": "markdown",
      "metadata": {},
      "source": [
        "Considere o artigo:\n",
        "```python\n",
        "Bloice, M.D., Holzinger, A. (2016). A Tutorial on Machine Learning and Data Science Tools with Python.\n",
        "```\n",
        "In: Holzinger, A. (eds) Machine Learning for Health Informatics.<br> Lecture Notes in Computer Science(), vol 9605. Springer, Cham. <br>https://doi.org/10.1007/978-3-319-50478-0_22\n",
        "\n"
      ]
    },
    {
      "cell_type": "markdown",
      "metadata": {
        "id": "QFMnFkBTdFWP"
      },
      "source": [
        "Utilizando as bibliotecas `PyMuPDF` e `Regex`, faça a extração do texto e apresente todas as **URLs** presentes no artigo."
      ]
    },
    {
      "cell_type": "markdown",
      "metadata": {},
      "source": [
        "Acesso ao Formulário para envio do código:\n",
        "* https://forms.gle/D54GFxjB8s6ZqkPo9"
      ]
    },
    {
      "cell_type": "code",
      "execution_count": 14,
      "metadata": {},
      "outputs": [
        {
          "name": "stdout",
          "output_type": "stream",
          "text": [
            "LISTA DE URLS ENCONTRADAS\n",
            "http://pandas.pydata.org/pandas-docs/stable/visualization.html\n",
            "https://visualsonline.cancer.gov/details.cfm?imageid=10583.Much\n",
            "http://augmentorjl.readthedocs.io.Although\n",
            "https://www.tensorﬂow.org/get\n",
            "https://developer.nvidia.com/digits\n",
            "https://www.continuum.io/downloadsand\n",
            "http://cacm.acm.org/blogs/blog-cacm/176450-python-is-now-the-most-popular-introductory-teaching-language-at-top-u-s-universities9\n",
            "https://www.continuum.io/downloads.Keeping\n",
            "https://twitter.com/fchollet/status/765212287531495424\n",
            "http://augmentor.readthedocs.io\n",
            "https://github.com/mdbloice/MLDSIt\n",
            "http://mathesaurus.sourceforge.net/matlab-numpy.html\n",
            "http://scikit-learn.org/stable/documentation.html\n",
            "http://www.cancer.gov\n",
            "http://topepo.github.io/caret/index.html\n",
            "http://www.scipy-lectures.org/\n",
            "http://torch.ch/docs/getting-started.html\n",
            "http://localhost:8888/\n",
            "http://pandas.pydata.org/pandas-docs/stable/missing\n"
          ]
        }
      ],
      "source": [
        "#EXTRAÇÃO DE URL\n",
        "import fitz\n",
        "import re\n",
        "doc = fitz.open(\"/Users/spassin/Documents/Pós IA/Linguagens de Programação/NOTA2/artigoAtividade2.pdf\") # open a document\n",
        "conjunto_urls = set()\n",
        "for pagina in doc:\n",
        "    pagina_texto = pagina.get_text()\n",
        "    pagina_texto = pagina_texto.replace('\\n', '')\n",
        "    padrao_pegar_url = r'https?://[^\\s<>\\\")]+|www\\.[^\\s<>\\\")]+'\n",
        "    urls = re.findall(padrao_pegar_url, pagina_texto)\n",
        "    for url in urls:\n",
        "        conjunto_urls.add(url.rstrip(\".\"))\n",
        "print('LISTA DE URLS ENCONTRADAS')\n",
        "for url in conjunto_urls:\n",
        "    print(url)"
      ]
    }
  ],
  "metadata": {
    "colab": {
      "provenance": []
    },
    "kernelspec": {
      "display_name": "Python 3 (ipykernel)",
      "language": "python",
      "name": "python3"
    },
    "language_info": {
      "codemirror_mode": {
        "name": "ipython",
        "version": 3
      },
      "file_extension": ".py",
      "mimetype": "text/x-python",
      "name": "python",
      "nbconvert_exporter": "python",
      "pygments_lexer": "ipython3",
      "version": "3.12.2"
    }
  },
  "nbformat": 4,
  "nbformat_minor": 0
}
